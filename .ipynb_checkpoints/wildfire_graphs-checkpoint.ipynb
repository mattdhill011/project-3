{
 "cells": [
  {
   "cell_type": "code",
   "execution_count": 2,
   "id": "2dcbd8b0",
   "metadata": {},
   "outputs": [],
   "source": [
    "import pandas as pd\n",
    "from datetime import datetime, timedelta\n",
    "import numpy as np\n",
    "from matplotlib import pyplot as plt\n",
    "\n",
    "fire_perimeters = \"WFIGS_-_Current_Wildland_Fire_Perimeters.csv\"\n",
    "fire_locations = \"WFIGS_-_Wildland_Fire_Locations_Full_History.csv\""
   ]
  },
  {
   "cell_type": "code",
   "execution_count": 3,
   "id": "e2e9e35e",
   "metadata": {},
   "outputs": [
    {
     "ename": "FileNotFoundError",
     "evalue": "[Errno 2] No such file or directory: 'WFIGS_-_Current_Wildland_Fire_Perimeters.csv'",
     "output_type": "error",
     "traceback": [
      "\u001b[1;31m---------------------------------------------------------------------------\u001b[0m",
      "\u001b[1;31mFileNotFoundError\u001b[0m                         Traceback (most recent call last)",
      "\u001b[1;32m~\\AppData\\Local\\Temp/ipykernel_6244/539544502.py\u001b[0m in \u001b[0;36m<module>\u001b[1;34m\u001b[0m\n\u001b[1;32m----> 1\u001b[1;33m \u001b[0mfire_perimeters_df\u001b[0m \u001b[1;33m=\u001b[0m \u001b[0mpd\u001b[0m\u001b[1;33m.\u001b[0m\u001b[0mread_csv\u001b[0m\u001b[1;33m(\u001b[0m\u001b[0mfire_perimeters\u001b[0m\u001b[1;33m)\u001b[0m\u001b[1;33m\u001b[0m\u001b[1;33m\u001b[0m\u001b[0m\n\u001b[0m\u001b[0;32m      2\u001b[0m \u001b[0mfire_locations_df\u001b[0m \u001b[1;33m=\u001b[0m \u001b[0mpd\u001b[0m\u001b[1;33m.\u001b[0m\u001b[0mread_csv\u001b[0m\u001b[1;33m(\u001b[0m\u001b[0mfire_locations\u001b[0m\u001b[1;33m)\u001b[0m\u001b[1;33m\u001b[0m\u001b[1;33m\u001b[0m\u001b[0m\n",
      "\u001b[1;32m~\\anaconda3\\lib\\site-packages\\pandas\\util\\_decorators.py\u001b[0m in \u001b[0;36mwrapper\u001b[1;34m(*args, **kwargs)\u001b[0m\n\u001b[0;32m    309\u001b[0m                     \u001b[0mstacklevel\u001b[0m\u001b[1;33m=\u001b[0m\u001b[0mstacklevel\u001b[0m\u001b[1;33m,\u001b[0m\u001b[1;33m\u001b[0m\u001b[1;33m\u001b[0m\u001b[0m\n\u001b[0;32m    310\u001b[0m                 )\n\u001b[1;32m--> 311\u001b[1;33m             \u001b[1;32mreturn\u001b[0m \u001b[0mfunc\u001b[0m\u001b[1;33m(\u001b[0m\u001b[1;33m*\u001b[0m\u001b[0margs\u001b[0m\u001b[1;33m,\u001b[0m \u001b[1;33m**\u001b[0m\u001b[0mkwargs\u001b[0m\u001b[1;33m)\u001b[0m\u001b[1;33m\u001b[0m\u001b[1;33m\u001b[0m\u001b[0m\n\u001b[0m\u001b[0;32m    312\u001b[0m \u001b[1;33m\u001b[0m\u001b[0m\n\u001b[0;32m    313\u001b[0m         \u001b[1;32mreturn\u001b[0m \u001b[0mwrapper\u001b[0m\u001b[1;33m\u001b[0m\u001b[1;33m\u001b[0m\u001b[0m\n",
      "\u001b[1;32m~\\anaconda3\\lib\\site-packages\\pandas\\io\\parsers\\readers.py\u001b[0m in \u001b[0;36mread_csv\u001b[1;34m(filepath_or_buffer, sep, delimiter, header, names, index_col, usecols, squeeze, prefix, mangle_dupe_cols, dtype, engine, converters, true_values, false_values, skipinitialspace, skiprows, skipfooter, nrows, na_values, keep_default_na, na_filter, verbose, skip_blank_lines, parse_dates, infer_datetime_format, keep_date_col, date_parser, dayfirst, cache_dates, iterator, chunksize, compression, thousands, decimal, lineterminator, quotechar, quoting, doublequote, escapechar, comment, encoding, encoding_errors, dialect, error_bad_lines, warn_bad_lines, on_bad_lines, delim_whitespace, low_memory, memory_map, float_precision, storage_options)\u001b[0m\n\u001b[0;32m    584\u001b[0m     \u001b[0mkwds\u001b[0m\u001b[1;33m.\u001b[0m\u001b[0mupdate\u001b[0m\u001b[1;33m(\u001b[0m\u001b[0mkwds_defaults\u001b[0m\u001b[1;33m)\u001b[0m\u001b[1;33m\u001b[0m\u001b[1;33m\u001b[0m\u001b[0m\n\u001b[0;32m    585\u001b[0m \u001b[1;33m\u001b[0m\u001b[0m\n\u001b[1;32m--> 586\u001b[1;33m     \u001b[1;32mreturn\u001b[0m \u001b[0m_read\u001b[0m\u001b[1;33m(\u001b[0m\u001b[0mfilepath_or_buffer\u001b[0m\u001b[1;33m,\u001b[0m \u001b[0mkwds\u001b[0m\u001b[1;33m)\u001b[0m\u001b[1;33m\u001b[0m\u001b[1;33m\u001b[0m\u001b[0m\n\u001b[0m\u001b[0;32m    587\u001b[0m \u001b[1;33m\u001b[0m\u001b[0m\n\u001b[0;32m    588\u001b[0m \u001b[1;33m\u001b[0m\u001b[0m\n",
      "\u001b[1;32m~\\anaconda3\\lib\\site-packages\\pandas\\io\\parsers\\readers.py\u001b[0m in \u001b[0;36m_read\u001b[1;34m(filepath_or_buffer, kwds)\u001b[0m\n\u001b[0;32m    480\u001b[0m \u001b[1;33m\u001b[0m\u001b[0m\n\u001b[0;32m    481\u001b[0m     \u001b[1;31m# Create the parser.\u001b[0m\u001b[1;33m\u001b[0m\u001b[1;33m\u001b[0m\u001b[0m\n\u001b[1;32m--> 482\u001b[1;33m     \u001b[0mparser\u001b[0m \u001b[1;33m=\u001b[0m \u001b[0mTextFileReader\u001b[0m\u001b[1;33m(\u001b[0m\u001b[0mfilepath_or_buffer\u001b[0m\u001b[1;33m,\u001b[0m \u001b[1;33m**\u001b[0m\u001b[0mkwds\u001b[0m\u001b[1;33m)\u001b[0m\u001b[1;33m\u001b[0m\u001b[1;33m\u001b[0m\u001b[0m\n\u001b[0m\u001b[0;32m    483\u001b[0m \u001b[1;33m\u001b[0m\u001b[0m\n\u001b[0;32m    484\u001b[0m     \u001b[1;32mif\u001b[0m \u001b[0mchunksize\u001b[0m \u001b[1;32mor\u001b[0m \u001b[0miterator\u001b[0m\u001b[1;33m:\u001b[0m\u001b[1;33m\u001b[0m\u001b[1;33m\u001b[0m\u001b[0m\n",
      "\u001b[1;32m~\\anaconda3\\lib\\site-packages\\pandas\\io\\parsers\\readers.py\u001b[0m in \u001b[0;36m__init__\u001b[1;34m(self, f, engine, **kwds)\u001b[0m\n\u001b[0;32m    809\u001b[0m             \u001b[0mself\u001b[0m\u001b[1;33m.\u001b[0m\u001b[0moptions\u001b[0m\u001b[1;33m[\u001b[0m\u001b[1;34m\"has_index_names\"\u001b[0m\u001b[1;33m]\u001b[0m \u001b[1;33m=\u001b[0m \u001b[0mkwds\u001b[0m\u001b[1;33m[\u001b[0m\u001b[1;34m\"has_index_names\"\u001b[0m\u001b[1;33m]\u001b[0m\u001b[1;33m\u001b[0m\u001b[1;33m\u001b[0m\u001b[0m\n\u001b[0;32m    810\u001b[0m \u001b[1;33m\u001b[0m\u001b[0m\n\u001b[1;32m--> 811\u001b[1;33m         \u001b[0mself\u001b[0m\u001b[1;33m.\u001b[0m\u001b[0m_engine\u001b[0m \u001b[1;33m=\u001b[0m \u001b[0mself\u001b[0m\u001b[1;33m.\u001b[0m\u001b[0m_make_engine\u001b[0m\u001b[1;33m(\u001b[0m\u001b[0mself\u001b[0m\u001b[1;33m.\u001b[0m\u001b[0mengine\u001b[0m\u001b[1;33m)\u001b[0m\u001b[1;33m\u001b[0m\u001b[1;33m\u001b[0m\u001b[0m\n\u001b[0m\u001b[0;32m    812\u001b[0m \u001b[1;33m\u001b[0m\u001b[0m\n\u001b[0;32m    813\u001b[0m     \u001b[1;32mdef\u001b[0m \u001b[0mclose\u001b[0m\u001b[1;33m(\u001b[0m\u001b[0mself\u001b[0m\u001b[1;33m)\u001b[0m\u001b[1;33m:\u001b[0m\u001b[1;33m\u001b[0m\u001b[1;33m\u001b[0m\u001b[0m\n",
      "\u001b[1;32m~\\anaconda3\\lib\\site-packages\\pandas\\io\\parsers\\readers.py\u001b[0m in \u001b[0;36m_make_engine\u001b[1;34m(self, engine)\u001b[0m\n\u001b[0;32m   1038\u001b[0m             )\n\u001b[0;32m   1039\u001b[0m         \u001b[1;31m# error: Too many arguments for \"ParserBase\"\u001b[0m\u001b[1;33m\u001b[0m\u001b[1;33m\u001b[0m\u001b[0m\n\u001b[1;32m-> 1040\u001b[1;33m         \u001b[1;32mreturn\u001b[0m \u001b[0mmapping\u001b[0m\u001b[1;33m[\u001b[0m\u001b[0mengine\u001b[0m\u001b[1;33m]\u001b[0m\u001b[1;33m(\u001b[0m\u001b[0mself\u001b[0m\u001b[1;33m.\u001b[0m\u001b[0mf\u001b[0m\u001b[1;33m,\u001b[0m \u001b[1;33m**\u001b[0m\u001b[0mself\u001b[0m\u001b[1;33m.\u001b[0m\u001b[0moptions\u001b[0m\u001b[1;33m)\u001b[0m  \u001b[1;31m# type: ignore[call-arg]\u001b[0m\u001b[1;33m\u001b[0m\u001b[1;33m\u001b[0m\u001b[0m\n\u001b[0m\u001b[0;32m   1041\u001b[0m \u001b[1;33m\u001b[0m\u001b[0m\n\u001b[0;32m   1042\u001b[0m     \u001b[1;32mdef\u001b[0m \u001b[0m_failover_to_python\u001b[0m\u001b[1;33m(\u001b[0m\u001b[0mself\u001b[0m\u001b[1;33m)\u001b[0m\u001b[1;33m:\u001b[0m\u001b[1;33m\u001b[0m\u001b[1;33m\u001b[0m\u001b[0m\n",
      "\u001b[1;32m~\\anaconda3\\lib\\site-packages\\pandas\\io\\parsers\\c_parser_wrapper.py\u001b[0m in \u001b[0;36m__init__\u001b[1;34m(self, src, **kwds)\u001b[0m\n\u001b[0;32m     49\u001b[0m \u001b[1;33m\u001b[0m\u001b[0m\n\u001b[0;32m     50\u001b[0m         \u001b[1;31m# open handles\u001b[0m\u001b[1;33m\u001b[0m\u001b[1;33m\u001b[0m\u001b[0m\n\u001b[1;32m---> 51\u001b[1;33m         \u001b[0mself\u001b[0m\u001b[1;33m.\u001b[0m\u001b[0m_open_handles\u001b[0m\u001b[1;33m(\u001b[0m\u001b[0msrc\u001b[0m\u001b[1;33m,\u001b[0m \u001b[0mkwds\u001b[0m\u001b[1;33m)\u001b[0m\u001b[1;33m\u001b[0m\u001b[1;33m\u001b[0m\u001b[0m\n\u001b[0m\u001b[0;32m     52\u001b[0m         \u001b[1;32massert\u001b[0m \u001b[0mself\u001b[0m\u001b[1;33m.\u001b[0m\u001b[0mhandles\u001b[0m \u001b[1;32mis\u001b[0m \u001b[1;32mnot\u001b[0m \u001b[1;32mNone\u001b[0m\u001b[1;33m\u001b[0m\u001b[1;33m\u001b[0m\u001b[0m\n\u001b[0;32m     53\u001b[0m \u001b[1;33m\u001b[0m\u001b[0m\n",
      "\u001b[1;32m~\\anaconda3\\lib\\site-packages\\pandas\\io\\parsers\\base_parser.py\u001b[0m in \u001b[0;36m_open_handles\u001b[1;34m(self, src, kwds)\u001b[0m\n\u001b[0;32m    220\u001b[0m         \u001b[0mLet\u001b[0m \u001b[0mthe\u001b[0m \u001b[0mreaders\u001b[0m \u001b[0mopen\u001b[0m \u001b[0mIOHandles\u001b[0m \u001b[0mafter\u001b[0m \u001b[0mthey\u001b[0m \u001b[0mare\u001b[0m \u001b[0mdone\u001b[0m \u001b[1;32mwith\u001b[0m \u001b[0mtheir\u001b[0m \u001b[0mpotential\u001b[0m \u001b[0mraises\u001b[0m\u001b[1;33m.\u001b[0m\u001b[1;33m\u001b[0m\u001b[1;33m\u001b[0m\u001b[0m\n\u001b[0;32m    221\u001b[0m         \"\"\"\n\u001b[1;32m--> 222\u001b[1;33m         self.handles = get_handle(\n\u001b[0m\u001b[0;32m    223\u001b[0m             \u001b[0msrc\u001b[0m\u001b[1;33m,\u001b[0m\u001b[1;33m\u001b[0m\u001b[1;33m\u001b[0m\u001b[0m\n\u001b[0;32m    224\u001b[0m             \u001b[1;34m\"r\"\u001b[0m\u001b[1;33m,\u001b[0m\u001b[1;33m\u001b[0m\u001b[1;33m\u001b[0m\u001b[0m\n",
      "\u001b[1;32m~\\anaconda3\\lib\\site-packages\\pandas\\io\\common.py\u001b[0m in \u001b[0;36mget_handle\u001b[1;34m(path_or_buf, mode, encoding, compression, memory_map, is_text, errors, storage_options)\u001b[0m\n\u001b[0;32m    700\u001b[0m         \u001b[1;32mif\u001b[0m \u001b[0mioargs\u001b[0m\u001b[1;33m.\u001b[0m\u001b[0mencoding\u001b[0m \u001b[1;32mand\u001b[0m \u001b[1;34m\"b\"\u001b[0m \u001b[1;32mnot\u001b[0m \u001b[1;32min\u001b[0m \u001b[0mioargs\u001b[0m\u001b[1;33m.\u001b[0m\u001b[0mmode\u001b[0m\u001b[1;33m:\u001b[0m\u001b[1;33m\u001b[0m\u001b[1;33m\u001b[0m\u001b[0m\n\u001b[0;32m    701\u001b[0m             \u001b[1;31m# Encoding\u001b[0m\u001b[1;33m\u001b[0m\u001b[1;33m\u001b[0m\u001b[0m\n\u001b[1;32m--> 702\u001b[1;33m             handle = open(\n\u001b[0m\u001b[0;32m    703\u001b[0m                 \u001b[0mhandle\u001b[0m\u001b[1;33m,\u001b[0m\u001b[1;33m\u001b[0m\u001b[1;33m\u001b[0m\u001b[0m\n\u001b[0;32m    704\u001b[0m                 \u001b[0mioargs\u001b[0m\u001b[1;33m.\u001b[0m\u001b[0mmode\u001b[0m\u001b[1;33m,\u001b[0m\u001b[1;33m\u001b[0m\u001b[1;33m\u001b[0m\u001b[0m\n",
      "\u001b[1;31mFileNotFoundError\u001b[0m: [Errno 2] No such file or directory: 'WFIGS_-_Current_Wildland_Fire_Perimeters.csv'"
     ]
    }
   ],
   "source": [
    "fire_perimeters_df = pd.read_csv(fire_perimeters)\n",
    "fire_locations_df = pd.read_csv(fire_locations)"
   ]
  },
  {
   "cell_type": "code",
   "execution_count": 58,
   "id": "f71cee99",
   "metadata": {},
   "outputs": [
    {
     "data": {
      "text/plain": [
       "Index(['X', 'Y', 'OBJECTID', 'ABCDMisc', 'ADSPermissionState',\n",
       "       'CalculatedAcres', 'ContainmentDateTime', 'ControlDateTime',\n",
       "       'DailyAcres', 'DiscoveryAcres', 'DispatchCenterID',\n",
       "       'EstimatedCostToDate', 'FinalFireReportApprovedByTitle',\n",
       "       'FinalFireReportApprovedByUnit', 'FinalFireReportApprovedDate',\n",
       "       'FireBehaviorGeneral', 'FireBehaviorGeneral1', 'FireBehaviorGeneral2',\n",
       "       'FireBehaviorGeneral3', 'FireCause', 'FireCauseGeneral',\n",
       "       'FireCauseSpecific', 'FireCode', 'FireDepartmentID',\n",
       "       'FireDiscoveryDateTime', 'FireMgmtComplexity', 'FireOutDateTime',\n",
       "       'FireStrategyConfinePercent', 'FireStrategyFullSuppPercent',\n",
       "       'FireStrategyMonitorPercent', 'FireStrategyPointZonePercent',\n",
       "       'FSJobCode', 'FSOverrideCode', 'GACC', 'ICS209ReportDateTime',\n",
       "       'ICS209ReportForTimePeriodFrom', 'ICS209ReportForTimePeriodTo',\n",
       "       'ICS209ReportStatus', 'IncidentManagementOrganization', 'IncidentName',\n",
       "       'IncidentShortDescription', 'IncidentTypeCategory', 'IncidentTypeKind',\n",
       "       'InitialLatitude', 'InitialLongitude', 'InitialResponseAcres',\n",
       "       'InitialResponseDateTime', 'IrwinID', 'IsFireCauseInvestigated',\n",
       "       'IsFireCodeRequested', 'IsFSAssisted', 'IsMultiJurisdictional',\n",
       "       'IsReimbursable', 'IsTrespass', 'IsUnifiedCommand',\n",
       "       'LocalIncidentIdentifier', 'PercentContained',\n",
       "       'PercentPerimeterToBeContained', 'POOCity', 'POOCounty',\n",
       "       'POODispatchCenterID', 'POOFips', 'POOJurisdictionalAgency',\n",
       "       'POOJurisdictionalUnit', 'POOJurisdictionalUnitParentUnit',\n",
       "       'POOLandownerCategory', 'POOLandownerKind',\n",
       "       'POOLegalDescPrincipalMeridian', 'POOLegalDescQtr',\n",
       "       'POOLegalDescQtrQtr', 'POOLegalDescRange', 'POOLegalDescSection',\n",
       "       'POOLegalDescTownship', 'POOPredictiveServiceAreaID',\n",
       "       'POOProtectingAgency', 'POOProtectingUnit', 'POOState',\n",
       "       'PredominantFuelGroup', 'PredominantFuelModel', 'PrimaryFuelModel',\n",
       "       'SecondaryFuelModel', 'TotalIncidentPersonnel', 'UniqueFireIdentifier',\n",
       "       'WFDSSDecisionStatus', 'CreatedBySystem', 'ModifiedBySystem',\n",
       "       'IsDispatchComplete', 'OrganizationalAssessment',\n",
       "       'StrategicDecisionPublishDate', 'CreatedOnDateTime_dt',\n",
       "       'ModifiedOnDateTime_dt', 'Source', 'GlobalID', 'IsCpxChild', 'CpxName',\n",
       "       'CpxID'],\n",
       "      dtype='object')"
      ]
     },
     "execution_count": 58,
     "metadata": {},
     "output_type": "execute_result"
    }
   ],
   "source": [
    "fire_locations_df.columns"
   ]
  },
  {
   "cell_type": "code",
   "execution_count": 67,
   "id": "4162555b",
   "metadata": {},
   "outputs": [
    {
     "data": {
      "text/html": [
       "<div>\n",
       "<style scoped>\n",
       "    .dataframe tbody tr th:only-of-type {\n",
       "        vertical-align: middle;\n",
       "    }\n",
       "\n",
       "    .dataframe tbody tr th {\n",
       "        vertical-align: top;\n",
       "    }\n",
       "\n",
       "    .dataframe thead th {\n",
       "        text-align: right;\n",
       "    }\n",
       "</style>\n",
       "<table border=\"1\" class=\"dataframe\">\n",
       "  <thead>\n",
       "    <tr style=\"text-align: right;\">\n",
       "      <th></th>\n",
       "      <th>FireDiscoveryDateTime</th>\n",
       "      <th>FireOutDateTime</th>\n",
       "      <th>IncidentName</th>\n",
       "      <th>X</th>\n",
       "      <th>Y</th>\n",
       "      <th>POOState</th>\n",
       "      <th>FireCause</th>\n",
       "      <th>FireOutDelta</th>\n",
       "    </tr>\n",
       "  </thead>\n",
       "  <tbody>\n",
       "    <tr>\n",
       "      <th>9</th>\n",
       "      <td>2015-06-09 03:36:00</td>\n",
       "      <td>2015-06-09 16:57:00</td>\n",
       "      <td>41</td>\n",
       "      <td>-119.693013</td>\n",
       "      <td>37.638805</td>\n",
       "      <td>US-CA</td>\n",
       "      <td>Human</td>\n",
       "      <td>0 days 13:21:00</td>\n",
       "    </tr>\n",
       "    <tr>\n",
       "      <th>23</th>\n",
       "      <td>2020-08-15 18:31:58</td>\n",
       "      <td>2020-08-16 15:59:59</td>\n",
       "      <td>SOUTH FORK</td>\n",
       "      <td>-122.901014</td>\n",
       "      <td>41.202338</td>\n",
       "      <td>US-CA</td>\n",
       "      <td>Human</td>\n",
       "      <td>0 days 21:28:01</td>\n",
       "    </tr>\n",
       "    <tr>\n",
       "      <th>24</th>\n",
       "      <td>2016-09-02 22:49:00</td>\n",
       "      <td>2016-09-04 00:59:59</td>\n",
       "      <td>Crown</td>\n",
       "      <td>-119.446513</td>\n",
       "      <td>38.114475</td>\n",
       "      <td>US-CA</td>\n",
       "      <td>Human</td>\n",
       "      <td>1 days 02:10:59</td>\n",
       "    </tr>\n",
       "    <tr>\n",
       "      <th>65</th>\n",
       "      <td>2018-10-09 20:36:59</td>\n",
       "      <td>2018-10-09 23:00:00</td>\n",
       "      <td>CAHUILLA</td>\n",
       "      <td>-116.769612</td>\n",
       "      <td>33.528925</td>\n",
       "      <td>US-CA</td>\n",
       "      <td>Human</td>\n",
       "      <td>0 days 02:23:01</td>\n",
       "    </tr>\n",
       "    <tr>\n",
       "      <th>79</th>\n",
       "      <td>2019-10-15 15:21:59</td>\n",
       "      <td>2019-10-26 20:23:59</td>\n",
       "      <td>Brannon</td>\n",
       "      <td>-123.441114</td>\n",
       "      <td>41.376505</td>\n",
       "      <td>US-CA</td>\n",
       "      <td>Unknown</td>\n",
       "      <td>11 days 05:02:00</td>\n",
       "    </tr>\n",
       "  </tbody>\n",
       "</table>\n",
       "</div>"
      ],
      "text/plain": [
       "   FireDiscoveryDateTime     FireOutDateTime IncidentName           X  \\\n",
       "9    2015-06-09 03:36:00 2015-06-09 16:57:00           41 -119.693013   \n",
       "23   2020-08-15 18:31:58 2020-08-16 15:59:59   SOUTH FORK -122.901014   \n",
       "24   2016-09-02 22:49:00 2016-09-04 00:59:59        Crown -119.446513   \n",
       "65   2018-10-09 20:36:59 2018-10-09 23:00:00     CAHUILLA -116.769612   \n",
       "79   2019-10-15 15:21:59 2019-10-26 20:23:59      Brannon -123.441114   \n",
       "\n",
       "            Y POOState FireCause     FireOutDelta  \n",
       "9   37.638805    US-CA     Human  0 days 13:21:00  \n",
       "23  41.202338    US-CA     Human  0 days 21:28:01  \n",
       "24  38.114475    US-CA     Human  1 days 02:10:59  \n",
       "65  33.528925    US-CA     Human  0 days 02:23:01  \n",
       "79  41.376505    US-CA   Unknown 11 days 05:02:00  "
      ]
     },
     "execution_count": 67,
     "metadata": {},
     "output_type": "execute_result"
    }
   ],
   "source": [
    "fire_discovered_and_out = fire_locations_df[[\"FireDiscoveryDateTime\", \"FireOutDateTime\", \"IncidentName\", \"X\", \"Y\", \"POOState\", \"FireCause\"]].dropna()\n",
    "\n",
    "# Use .loc to filter for the state of california\n",
    "fire_discovered_and_out = fire_discovered_and_out.loc[fire_discovered_and_out[\"POOState\"] == \"US-CA\"]\n",
    "\n",
    "fire_discovery_date_time = []\n",
    "fire_out_date_time = []\n",
    "fire_out_delta = []\n",
    "\n",
    "# We loop through all the rows, converting them to datetime objects\n",
    "for i in range(len(fire_discovered_and_out)):\n",
    "    \n",
    "    # We try to convert the discovery time and fire out time to a datetime object, if that raises an exception then\n",
    "    # we instead add a null value, (that we'll drop later)\n",
    "    try:\n",
    "        started = pd.to_datetime(fire_discovered_and_out[\"FireDiscoveryDateTime\"].iloc[i], format=\"%Y/%m/%d %H:%M:%S+%f\")\n",
    "        fire_discovery_date_time.append(started)\n",
    "    except:\n",
    "        started = datetime.strptime(fire_discovered_and_out[\"FireDiscoveryDateTime\"].iloc[i], \"%Y/%m/%d %H:%M:%S+%f\")\n",
    "        fire_discovery_date_time.append(pd.nan)\n",
    "        \n",
    "    try:    \n",
    "        out = pd.to_datetime(fire_discovered_and_out[\"FireOutDateTime\"].iloc[i], format=\"%Y/%m/%d %H:%M:%S+%f\")\n",
    "        fire_out_date_time.append(out)\n",
    "    except:\n",
    "        out = datetime.strptime(fire_discovered_and_out[\"FireOutDateTime\"].iloc[i], \"%Y/%m/%d %H:%M:%S+%f\")\n",
    "        fire_out_date_time.append(np.nan)\n",
    "    \n",
    "    # We also make a new column to keep track of how long the fire lasted\n",
    "    # A few rows must have been improperly filled out, as the fire was put out before it started\n",
    "    # So we try and if the time delta is negative, or it otherwise doesn't work we put in NaN which we will drop later\n",
    "    try:\n",
    "        time_delta = pd.Timedelta(out-started)\n",
    "    \n",
    "        if time_delta.days < 0:\n",
    "            fire_out_delta.append(np.nan)\n",
    "        \n",
    "        else:\n",
    "            fire_out_delta.append(pd.Timedelta(time_delta))\n",
    "    except:\n",
    "        fire_out_delta.append(np.nan)\n",
    "\n",
    "# now we update our dataframe \n",
    "fire_discovered_and_out[\"FireDiscoveryDateTime\"] = fire_discovery_date_time\n",
    "fire_discovered_and_out[\"FireOutDateTime\"] = fire_out_date_time\n",
    "fire_discovered_and_out[\"FireOutDelta\"] = fire_out_delta\n",
    "fire_discovered_and_out.head()\n"
   ]
  },
  {
   "cell_type": "code",
   "execution_count": 68,
   "id": "36a3f339",
   "metadata": {},
   "outputs": [],
   "source": [
    "# Now we dropna from this finished dataframe\n",
    "fire_time_delta_cleaned = fire_discovered_and_out.dropna()"
   ]
  },
  {
   "cell_type": "code",
   "execution_count": 186,
   "id": "7ced43a6",
   "metadata": {},
   "outputs": [],
   "source": [
    "# Here we define a bunch of functions to return a list of fire counts broken down by month, hour and by day of a given month\n",
    "# There's a much easier way to do this with groupby, but whatever\n",
    "\n",
    "def fire_counts_by_month(data):\n",
    "    fire_counts = [0,0,0,0,0,0,0,0,0,0,0,0]\n",
    "    for i in range(len(data)):\n",
    "        month = data[\"FireDiscoveryDateTime\"].iloc[i].month\n",
    "        fire_counts[month -1] += 1\n",
    "    return fire_counts\n",
    "\n",
    "def fire_counts_by_hour(data):\n",
    "    fire_counts = []\n",
    "    for i in range(24):\n",
    "        fire_counts.append(0)\n",
    "    \n",
    "    for i in range(len(data)):\n",
    "        hour = data[\"FireDiscoveryDateTime\"].iloc[i].hour\n",
    "        fire_counts[hour] += 1\n",
    "    return fire_counts\n",
    "\n",
    "# This one, in addition to the dataset, takes the target month as an integer and the number of days in that month\n",
    "def fire_counts_by_day(data, target_month, days):\n",
    "    fire_counts = []\n",
    "    for i in range(days):\n",
    "        fire_counts.append(0)\n",
    "\n",
    "    for i in range(len(data)):\n",
    "        month = data[\"FireDiscoveryDateTime\"].iloc[i].month\n",
    "        if month == target_month:\n",
    "            day = fire_time_delta_cleaned[\"FireDiscoveryDateTime\"].iloc[i].day\n",
    "            fire_counts[day -1] += 1\n",
    "    return fire_counts"
   ]
  },
  {
   "cell_type": "code",
   "execution_count": 187,
   "id": "42c65398",
   "metadata": {},
   "outputs": [
    {
     "data": {
      "text/plain": [
       "<BarContainer object of 12 artists>"
      ]
     },
     "execution_count": 187,
     "metadata": {},
     "output_type": "execute_result"
    },
    {
     "data": {
      "image/png": "[encoded data removed]",
      "text/plain": [
       "<Figure size 432x288 with 1 Axes>"
      ]
     },
     "metadata": {
      "needs_background": "light"
     },
     "output_type": "display_data"
    }
   ],
   "source": [
    "fire_counts = fire_counts_by_month(fire_time_delta_cleaned)\n",
    "\n",
    "months = [\"Jan\", \"Feb\", \"Mar\", \"Apr\", \"May\", \"Jun\", \"Jul\", \"Aug\", \"Sep\", \"Oct\", \"Nov\", \"Dec\"]\n",
    "plt.bar(months, fire_counts)"
   ]
  },
  {
   "cell_type": "code",
   "execution_count": 188,
   "id": "88c11ce3",
   "metadata": {},
   "outputs": [
    {
     "name": "stdout",
     "output_type": "stream",
     "text": [
      "[754, 512, 398, 283, 185, 133, 124, 71, 61, 46, 44, 44, 77, 137, 325, 436, 514, 612, 658, 695, 842, 846, 813, 776]\n"
     ]
    },
    {
     "data": {
      "text/plain": [
       "<BarContainer object of 24 artists>"
      ]
     },
     "execution_count": 188,
     "metadata": {},
     "output_type": "execute_result"
    },
    {
     "data": {
      "image/png": "[encoded data removed]",
      "text/plain": [
       "<Figure size 432x288 with 1 Axes>"
      ]
     },
     "metadata": {
      "needs_background": "light"
     },
     "output_type": "display_data"
    }
   ],
   "source": [
    "fire_counts = fire_counts_by_hour(fire_time_delta_cleaned)\n",
    "print(fire_counts)\n",
    "plt.bar(range(24), fire_counts)"
   ]
  },
  {
   "cell_type": "code",
   "execution_count": 189,
   "id": "70ae50f4",
   "metadata": {},
   "outputs": [
    {
     "data": {
      "text/plain": [
       "<BarContainer object of 31 artists>"
      ]
     },
     "execution_count": 189,
     "metadata": {},
     "output_type": "execute_result"
    },
    {
     "data": {
      "image/png": "[encoded data removed]",
      "text/plain": [
       "<Figure size 432x288 with 1 Axes>"
      ]
     },
     "metadata": {
      "needs_background": "light"
     },
     "output_type": "display_data"
    }
   ],
   "source": [
    "fire_counts = fire_counts_by_day(fire_time_delta_cleaned, 7, 31)\n",
    "\n",
    "plt.bar(range(1, 32), fire_counts)"
   ]
  },
  {
   "cell_type": "code",
   "execution_count": 76,
   "id": "b00137d5",
   "metadata": {},
   "outputs": [
    {
     "data": {
      "text/plain": [
       "Int64Index([ 6,  8,  9, 10, 10,  8, 11,  8,  5,  6,\n",
       "            ...\n",
       "             7,  7,  7,  7,  7,  6,  7,  7,  7,  7],\n",
       "           dtype='int64', name='FireDiscoveryDateTime', length=9386)"
      ]
     },
     "execution_count": 76,
     "metadata": {},
     "output_type": "execute_result"
    }
   ],
   "source": [
    "# Here we set the fireDiscoveryDateTime as the index (makes it easier to get the month, day, hour, etc.)\n",
    "\n",
    "fire_time_delta_cleaned.index = fire_time_delta_cleaned[\"FireDiscoveryDateTime\"]\n",
    "fire_time_delta_cleaned.index.month"
   ]
  },
  {
   "cell_type": "code",
   "execution_count": 77,
   "id": "78c4a0be",
   "metadata": {},
   "outputs": [
    {
     "data": {
      "text/html": [
       "<div>\n",
       "<style scoped>\n",
       "    .dataframe tbody tr th:only-of-type {\n",
       "        vertical-align: middle;\n",
       "    }\n",
       "\n",
       "    .dataframe tbody tr th {\n",
       "        vertical-align: top;\n",
       "    }\n",
       "\n",
       "    .dataframe thead th {\n",
       "        text-align: right;\n",
       "    }\n",
       "</style>\n",
       "<table border=\"1\" class=\"dataframe\">\n",
       "  <thead>\n",
       "    <tr style=\"text-align: right;\">\n",
       "      <th></th>\n",
       "      <th>FireDiscoveryDateTime</th>\n",
       "      <th>FireOutDateTime</th>\n",
       "      <th>IncidentName</th>\n",
       "      <th>X</th>\n",
       "      <th>Y</th>\n",
       "      <th>POOState</th>\n",
       "      <th>FireCause</th>\n",
       "      <th>FireOutDelta</th>\n",
       "    </tr>\n",
       "    <tr>\n",
       "      <th>FireDiscoveryDateTime</th>\n",
       "      <th></th>\n",
       "      <th></th>\n",
       "      <th></th>\n",
       "      <th></th>\n",
       "      <th></th>\n",
       "      <th></th>\n",
       "      <th></th>\n",
       "      <th></th>\n",
       "    </tr>\n",
       "  </thead>\n",
       "  <tbody>\n",
       "    <tr>\n",
       "      <th>1</th>\n",
       "      <td>138</td>\n",
       "      <td>138</td>\n",
       "      <td>138</td>\n",
       "      <td>138</td>\n",
       "      <td>138</td>\n",
       "      <td>138</td>\n",
       "      <td>138</td>\n",
       "      <td>138</td>\n",
       "    </tr>\n",
       "    <tr>\n",
       "      <th>2</th>\n",
       "      <td>181</td>\n",
       "      <td>181</td>\n",
       "      <td>181</td>\n",
       "      <td>181</td>\n",
       "      <td>181</td>\n",
       "      <td>181</td>\n",
       "      <td>181</td>\n",
       "      <td>181</td>\n",
       "    </tr>\n",
       "    <tr>\n",
       "      <th>3</th>\n",
       "      <td>168</td>\n",
       "      <td>168</td>\n",
       "      <td>168</td>\n",
       "      <td>168</td>\n",
       "      <td>168</td>\n",
       "      <td>168</td>\n",
       "      <td>168</td>\n",
       "      <td>168</td>\n",
       "    </tr>\n",
       "    <tr>\n",
       "      <th>4</th>\n",
       "      <td>340</td>\n",
       "      <td>340</td>\n",
       "      <td>340</td>\n",
       "      <td>340</td>\n",
       "      <td>340</td>\n",
       "      <td>340</td>\n",
       "      <td>340</td>\n",
       "      <td>340</td>\n",
       "    </tr>\n",
       "    <tr>\n",
       "      <th>5</th>\n",
       "      <td>707</td>\n",
       "      <td>707</td>\n",
       "      <td>707</td>\n",
       "      <td>707</td>\n",
       "      <td>707</td>\n",
       "      <td>707</td>\n",
       "      <td>707</td>\n",
       "      <td>707</td>\n",
       "    </tr>\n",
       "    <tr>\n",
       "      <th>6</th>\n",
       "      <td>1352</td>\n",
       "      <td>1352</td>\n",
       "      <td>1352</td>\n",
       "      <td>1352</td>\n",
       "      <td>1352</td>\n",
       "      <td>1352</td>\n",
       "      <td>1352</td>\n",
       "      <td>1352</td>\n",
       "    </tr>\n",
       "    <tr>\n",
       "      <th>7</th>\n",
       "      <td>2618</td>\n",
       "      <td>2618</td>\n",
       "      <td>2618</td>\n",
       "      <td>2618</td>\n",
       "      <td>2618</td>\n",
       "      <td>2618</td>\n",
       "      <td>2618</td>\n",
       "      <td>2618</td>\n",
       "    </tr>\n",
       "    <tr>\n",
       "      <th>8</th>\n",
       "      <td>1836</td>\n",
       "      <td>1836</td>\n",
       "      <td>1836</td>\n",
       "      <td>1836</td>\n",
       "      <td>1836</td>\n",
       "      <td>1836</td>\n",
       "      <td>1836</td>\n",
       "      <td>1836</td>\n",
       "    </tr>\n",
       "    <tr>\n",
       "      <th>9</th>\n",
       "      <td>1007</td>\n",
       "      <td>1007</td>\n",
       "      <td>1007</td>\n",
       "      <td>1007</td>\n",
       "      <td>1007</td>\n",
       "      <td>1007</td>\n",
       "      <td>1007</td>\n",
       "      <td>1007</td>\n",
       "    </tr>\n",
       "    <tr>\n",
       "      <th>10</th>\n",
       "      <td>574</td>\n",
       "      <td>574</td>\n",
       "      <td>574</td>\n",
       "      <td>574</td>\n",
       "      <td>574</td>\n",
       "      <td>574</td>\n",
       "      <td>574</td>\n",
       "      <td>574</td>\n",
       "    </tr>\n",
       "    <tr>\n",
       "      <th>11</th>\n",
       "      <td>309</td>\n",
       "      <td>309</td>\n",
       "      <td>309</td>\n",
       "      <td>309</td>\n",
       "      <td>309</td>\n",
       "      <td>309</td>\n",
       "      <td>309</td>\n",
       "      <td>309</td>\n",
       "    </tr>\n",
       "    <tr>\n",
       "      <th>12</th>\n",
       "      <td>156</td>\n",
       "      <td>156</td>\n",
       "      <td>156</td>\n",
       "      <td>156</td>\n",
       "      <td>156</td>\n",
       "      <td>156</td>\n",
       "      <td>156</td>\n",
       "      <td>156</td>\n",
       "    </tr>\n",
       "  </tbody>\n",
       "</table>\n",
       "</div>"
      ],
      "text/plain": [
       "                       FireDiscoveryDateTime  FireOutDateTime  IncidentName  \\\n",
       "FireDiscoveryDateTime                                                         \n",
       "1                                        138              138           138   \n",
       "2                                        181              181           181   \n",
       "3                                        168              168           168   \n",
       "4                                        340              340           340   \n",
       "5                                        707              707           707   \n",
       "6                                       1352             1352          1352   \n",
       "7                                       2618             2618          2618   \n",
       "8                                       1836             1836          1836   \n",
       "9                                       1007             1007          1007   \n",
       "10                                       574              574           574   \n",
       "11                                       309              309           309   \n",
       "12                                       156              156           156   \n",
       "\n",
       "                          X     Y  POOState  FireCause  FireOutDelta  \n",
       "FireDiscoveryDateTime                                                 \n",
       "1                       138   138       138        138           138  \n",
       "2                       181   181       181        181           181  \n",
       "3                       168   168       168        168           168  \n",
       "4                       340   340       340        340           340  \n",
       "5                       707   707       707        707           707  \n",
       "6                      1352  1352      1352       1352          1352  \n",
       "7                      2618  2618      2618       2618          2618  \n",
       "8                      1836  1836      1836       1836          1836  \n",
       "9                      1007  1007      1007       1007          1007  \n",
       "10                      574   574       574        574           574  \n",
       "11                      309   309       309        309           309  \n",
       "12                      156   156       156        156           156  "
      ]
     },
     "execution_count": 77,
     "metadata": {},
     "output_type": "execute_result"
    }
   ],
   "source": [
    "fire_time_delta_cleaned.groupby(fire_time_delta_cleaned.index.month).count()"
   ]
  },
  {
   "cell_type": "code",
   "execution_count": 78,
   "id": "a45fa6fa",
   "metadata": {},
   "outputs": [
    {
     "data": {
      "text/html": [
       "<div>\n",
       "<style scoped>\n",
       "    .dataframe tbody tr th:only-of-type {\n",
       "        vertical-align: middle;\n",
       "    }\n",
       "\n",
       "    .dataframe tbody tr th {\n",
       "        vertical-align: top;\n",
       "    }\n",
       "\n",
       "    .dataframe thead th {\n",
       "        text-align: right;\n",
       "    }\n",
       "</style>\n",
       "<table border=\"1\" class=\"dataframe\">\n",
       "  <thead>\n",
       "    <tr style=\"text-align: right;\">\n",
       "      <th></th>\n",
       "      <th>FireDiscoveryDateTime</th>\n",
       "      <th>FireOutDateTime</th>\n",
       "      <th>IncidentName</th>\n",
       "      <th>X</th>\n",
       "      <th>Y</th>\n",
       "      <th>POOState</th>\n",
       "      <th>FireCause</th>\n",
       "      <th>FireOutDelta</th>\n",
       "    </tr>\n",
       "    <tr>\n",
       "      <th>FireDiscoveryDateTime</th>\n",
       "      <th></th>\n",
       "      <th></th>\n",
       "      <th></th>\n",
       "      <th></th>\n",
       "      <th></th>\n",
       "      <th></th>\n",
       "      <th></th>\n",
       "      <th></th>\n",
       "    </tr>\n",
       "  </thead>\n",
       "  <tbody>\n",
       "    <tr>\n",
       "      <th>2020-09-08 13:43:51</th>\n",
       "      <td>2020-09-08 13:43:51</td>\n",
       "      <td>2022-02-01 20:00:00</td>\n",
       "      <td>SLATER</td>\n",
       "      <td>-123.353598</td>\n",
       "      <td>41.858031</td>\n",
       "      <td>US-CA</td>\n",
       "      <td>Undetermined</td>\n",
       "      <td>511 days 06:16:09</td>\n",
       "    </tr>\n",
       "  </tbody>\n",
       "</table>\n",
       "</div>"
      ],
      "text/plain": [
       "                      FireDiscoveryDateTime     FireOutDateTime IncidentName  \\\n",
       "FireDiscoveryDateTime                                                          \n",
       "2020-09-08 13:43:51     2020-09-08 13:43:51 2022-02-01 20:00:00       SLATER   \n",
       "\n",
       "                                X          Y POOState     FireCause  \\\n",
       "FireDiscoveryDateTime                                                 \n",
       "2020-09-08 13:43:51   -123.353598  41.858031    US-CA  Undetermined   \n",
       "\n",
       "                           FireOutDelta  \n",
       "FireDiscoveryDateTime                    \n",
       "2020-09-08 13:43:51   511 days 06:16:09  "
      ]
     },
     "execution_count": 78,
     "metadata": {},
     "output_type": "execute_result"
    }
   ],
   "source": [
    "fire_time_delta_cleaned.loc[fire_time_delta_cleaned[\"FireOutDelta\"] == fire_time_delta_cleaned[\"FireOutDelta\"].max()]"
   ]
  },
  {
   "cell_type": "code",
   "execution_count": 120,
   "id": "58dcd115",
   "metadata": {},
   "outputs": [
    {
     "data": {
      "text/plain": [
       "<matplotlib.legend.Legend at 0x2c8903bf2b0>"
      ]
     },
     "execution_count": 120,
     "metadata": {},
     "output_type": "execute_result"
    },
    {
     "data": {
      "image/png": "[encoded data removed]",
      "text/plain": [
       "<Figure size 576x576 with 1 Axes>"
      ]
     },
     "metadata": {},
     "output_type": "display_data"
    }
   ],
   "source": [
    "fire_time_delta_cleaned.groupby(\"FireCause\").size().plot.pie(ylabel='', autopct='%1.1f%%', figsize = [8,8])\n",
    "plt.legend(loc=\"best\")"
   ]
  },
  {
   "cell_type": "code",
   "execution_count": 173,
   "id": "708be39b",
   "metadata": {},
   "outputs": [
    {
     "name": "stderr",
     "output_type": "stream",
     "text": [
      "C:\\Users\\wallh\\AppData\\Local\\Temp/ipykernel_16996/3494415586.py:5: SettingWithCopyWarning: \n",
      "A value is trying to be set on a copy of a slice from a DataFrame.\n",
      "Try using .loc[row_indexer,col_indexer] = value instead\n",
      "\n",
      "See the caveats in the documentation: https://pandas.pydata.org/pandas-docs/stable/user_guide/indexing.html#returning-a-view-versus-a-copy\n",
      "  fire_time_delta_cleaned[\"TimeOfDay\"] = time_of_day\n",
      "C:\\Users\\wallh\\AppData\\Local\\Temp/ipykernel_16996/3494415586.py:11: SettingWithCopyWarning: \n",
      "A value is trying to be set on a copy of a slice from a DataFrame.\n",
      "Try using .loc[row_indexer,col_indexer] = value instead\n",
      "\n",
      "See the caveats in the documentation: https://pandas.pydata.org/pandas-docs/stable/user_guide/indexing.html#returning-a-view-versus-a-copy\n",
      "  fire_time_delta_cleaned[\"Month\"] = count_by_month\n"
     ]
    }
   ],
   "source": [
    "# Here we add hour and month columns to the dataframe to use for our groupby\n",
    "\n",
    "time_of_day = []\n",
    "for i in range(len(fire_time_delta_cleaned)):\n",
    "    time_of_day.append(fire_time_delta_cleaned[\"FireDiscoveryDateTime\"].iloc[i].hour)\n",
    "\n",
    "fire_time_delta_cleaned[\"TimeOfDay\"] = time_of_day\n",
    "\n",
    "count_by_month = []\n",
    "for i in range(len(fire_time_delta_cleaned)):\n",
    "    count_by_month.append(fire_time_delta_cleaned[\"FireDiscoveryDateTime\"].iloc[i].month)\n",
    "\n",
    "fire_time_delta_cleaned[\"Month\"] = count_by_month"
   ]
  },
  {
   "cell_type": "code",
   "execution_count": 170,
   "id": "50e33e87",
   "metadata": {},
   "outputs": [
    {
     "data": {
      "image/png": "[encoded data removed]",
      "text/plain": [
       "<Figure size 1440x360 with 1 Axes>"
      ]
     },
     "metadata": {
      "needs_background": "light"
     },
     "output_type": "display_data"
    }
   ],
   "source": [
    "fire_by_time_human = fire_time_delta_cleaned.loc[fire_time_delta_cleaned[\"FireCause\"] == \"Human\"].groupby(\"TimeOfDay\").size()\n",
    "fire_by_time_natural = fire_time_delta_cleaned.loc[fire_time_delta_cleaned[\"FireCause\"] == \"Natural\"].groupby(\"TimeOfDay\").size()\n",
    "times_of_day = [\"12am\", \"1am\", \"2am\", \"3am\", \"4am\", \"5am\", \"6am\", \"7am\", \"8am\", \"9am\", \"10am\", \"11am\", \"12pm\", \"1pm\", \"2pm\", \"3pm\", \"4pm\", \"5pm\", \"6pm\", \"7pm\", \"8pm\", \"9pm\", \"10pm\", \"11pm\"]\n",
    "\n",
    "fig, ax = plt.subplots(figsize=(20,5))\n",
    "\n",
    "ax.plot(times_of_day, fire_by_time_human, label=\"Human\")\n",
    "ax.plot(times_of_day, fire_by_time_natural, label=\"Natural\")\n",
    "ax.legend()\n",
    "\n",
    "plt.show()"
   ]
  },
  {
   "cell_type": "code",
   "execution_count": 175,
   "id": "0992c376",
   "metadata": {},
   "outputs": [
    {
     "data": {
      "image/png": "[encoded data removed]",
      "text/plain": [
       "<Figure size 1440x360 with 1 Axes>"
      ]
     },
     "metadata": {
      "needs_background": "light"
     },
     "output_type": "display_data"
    }
   ],
   "source": [
    "fire_by_month_human = fire_time_delta_cleaned.loc[fire_time_delta_cleaned[\"FireCause\"] == \"Human\"].groupby(\"Month\").size()\n",
    "fire_by_month_natural = fire_time_delta_cleaned.loc[fire_time_delta_cleaned[\"FireCause\"] == \"Natural\"].groupby(\"Month\").size()\n",
    "months = [\"Jan\", \"Feb\", \"Mar\", \"Apr\", \"May\", \"Jun\", \"July\", \"Aug\", \"Sept\", \"Oct\", \"Nov\", \"Dec\"]\n",
    "\n",
    "fig, ax = plt.subplots(figsize=(20,5))\n",
    "\n",
    "ax.plot(months, fire_by_month_human, label=\"Human\")\n",
    "ax.plot(months, fire_by_month_natural, label=\"Natural\")\n",
    "ax.legend()\n",
    "\n",
    "plt.show()"
   ]
  },
  {
   "cell_type": "code",
   "execution_count": 1,
   "id": "2dd844e5",
   "metadata": {},
   "outputs": [
    {
     "ename": "NameError",
     "evalue": "name 'fire_time_delta_cleaned' is not defined",
     "output_type": "error",
     "traceback": [
      "\u001b[1;31m---------------------------------------------------------------------------\u001b[0m",
      "\u001b[1;31mNameError\u001b[0m                                 Traceback (most recent call last)",
      "\u001b[1;32m~\\AppData\\Local\\Temp/ipykernel_6244/2548950668.py\u001b[0m in \u001b[0;36m<module>\u001b[1;34m\u001b[0m\n\u001b[1;32m----> 1\u001b[1;33m \u001b[0mfire_time_delta_cleaned\u001b[0m\u001b[1;33m\u001b[0m\u001b[1;33m\u001b[0m\u001b[0m\n\u001b[0m",
      "\u001b[1;31mNameError\u001b[0m: name 'fire_time_delta_cleaned' is not defined"
     ]
    }
   ],
   "source": [
    "fire_time_delta_cleaned"
   ]
  }
 ],
 "metadata": {
  "kernelspec": {
   "display_name": "Python 3 (ipykernel)",
   "language": "python",
   "name": "python3"
  },
  "language_info": {
   "codemirror_mode": {
    "name": "ipython",
    "version": 3
   },
   "file_extension": ".py",
   "mimetype": "text/x-python",
   "name": "python",
   "nbconvert_exporter": "python",
   "pygments_lexer": "ipython3",
   "version": "3.9.7"
  }
 },
 "nbformat": 4,
 "nbformat_minor": 5
}
